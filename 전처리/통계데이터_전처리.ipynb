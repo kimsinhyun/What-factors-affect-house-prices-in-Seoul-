{
 "cells": [
  {
   "cell_type": "code",
   "execution_count": 1,
   "id": "9d2ec877",
   "metadata": {},
   "outputs": [
    {
     "name": "stderr",
     "output_type": "stream",
     "text": [
      "C:\\Users\\dblab\\anaconda3\\lib\\site-packages\\numpy\\_distributor_init.py:30: UserWarning: loaded more than 1 DLL from .libs:\n",
      "C:\\Users\\dblab\\anaconda3\\lib\\site-packages\\numpy\\.libs\\libopenblas.WCDJNK7YVMPZQ2ME2ZZHJJRJ3JIKNDB7.gfortran-win_amd64.dll\n",
      "C:\\Users\\dblab\\anaconda3\\lib\\site-packages\\numpy\\.libs\\libopenblas.XWYDX2IKJW2NMTWSFYNGFUWKQU3LYTCZ.gfortran-win_amd64.dll\n",
      "  warnings.warn(\"loaded more than 1 DLL from .libs:\"\n"
     ]
    }
   ],
   "source": [
    "import pandas as pd\n",
    "import numpy as np\n",
    "\n",
    "\n",
    "\n",
    "import matplotlib.pyplot as plt\n",
    "import seaborn as sns\n",
    "import plotly.express as px\n",
    "import plotly.graph_objects as go\n",
    "plt.rcParams['font.family'] = 'NanumGothic'\n",
    "\n",
    "\n",
    "\n",
    "\n",
    "import folium\n",
    "import json\n",
    "from folium.plugins import MarkerCluster\n",
    "import geopandas as gpd\n",
    "from shapely.geometry import Point, Polygon,MultiPolygon\n",
    "from pyproj import Proj\n",
    "\n",
    "\n",
    "\n",
    "\n",
    "import warnings\n",
    "warnings.filterwarnings('ignore')"
   ]
  },
  {
   "cell_type": "code",
   "execution_count": 2,
   "id": "b715a5ff",
   "metadata": {},
   "outputs": [],
   "source": [
    "# ·"
   ]
  },
  {
   "cell_type": "code",
   "execution_count": 3,
   "id": "939e20b3",
   "metadata": {},
   "outputs": [],
   "source": [
    "gdf = gpd.GeoDataFrame.from_file('../data/seoul_geo.geojson', encoding='utf-8')\n",
    "\n",
    "#다른 환경에서 아래 코드를 돌릴 때 pyProj오류가 발생할 수 있으므로 아래 코드를 주석해제하고 실행\n",
    "import os\n",
    "\n",
    "os.environ['PROJ_LIB']=r\"C:/Users/dblab/Anaconda3/Library/share\"  #C:/ .... / Anaconda3 사이의 주소는 본인 PC에 맞게 설정\n",
    "\n",
    "gdf.crs = {'init':'epsg:4326'}\n",
    "gdf = gdf.to_crs({'init':'epsg:5179'})\n",
    "\n",
    "# Point(126.989574,37.569006).within(gdf.geometry[0].buffer(0))\n",
    "gdf['dong'] = gdf['adm_nm'].str.split().str[2]\n",
    "def return_office_dong(point):\n",
    "    dong_df = pd.DataFrame()\n",
    "    dong_df['dong'] = gdf['adm_nm'].str.split().str[2]\n",
    "    dong_list = dong_df.dong.tolist()\n",
    "    dong_list\n",
    "    for i,dong in enumerate(dong_list):\n",
    "        if(point.within(gdf.geometry[i].buffer(0)) == True):\n",
    "            return str(dong_list[i])\n",
    "    else:\n",
    "        return None"
   ]
  },
  {
   "cell_type": "code",
   "execution_count": 4,
   "id": "e7f37123",
   "metadata": {
    "scrolled": true
   },
   "outputs": [
    {
     "data": {
      "text/plain": [
       "array(['사직동', '삼청동', '부암동', '평창동', '무악동', '교남동', '가회동', '종로1·2·3·4가동',\n",
       "       '종로5·6가동', '이화동', '창신1동', '창신2동', '창신3동', '숭인1동', '숭인2동', '청운효자동',\n",
       "       '혜화동', '소공동', '회현동', '명동', '필동', '장충동', '광희동', '을지로동', '신당5동',\n",
       "       '황학동', '중림동', '신당동', '다산동', '약수동', '청구동', '동화동', '후암동', '용산2가동',\n",
       "       '남영동', '원효로2동', '효창동', '용문동', '이촌1동', '이촌2동', '이태원1동', '이태원2동',\n",
       "       '서빙고동', '보광동', '청파동', '원효로1동', '한강로동', '한남동', '왕십리2동', '마장동',\n",
       "       '사근동', '행당1동', '행당2동', '응봉동', '금호1가동', '금호4가동', '성수1가1동', '성수1가2동',\n",
       "       '성수2가1동', '성수2가3동', '송정동', '용답동', '왕십리도선동', '금호2·3가동', '옥수동',\n",
       "       '화양동', '군자동', '중곡1동', '중곡2동', '중곡3동', '중곡4동', '능동', '구의1동', '구의2동',\n",
       "       '구의3동', '광장동', '자양1동', '자양2동', '자양3동', '자양4동', '회기동', '휘경1동',\n",
       "       '휘경2동', '청량리동', '용신동', '제기동', '전농1동', '전농2동', '답십리2동', '장안1동',\n",
       "       '장안2동', '이문1동', '이문2동', '답십리1동', '면목2동', '면목4동', '면목5동', '면목7동',\n",
       "       '상봉1동', '상봉2동', '중화1동', '중화2동', '묵1동', '묵2동', '망우3동', '신내1동',\n",
       "       '신내2동', '면목본동', '면목3·8동', '망우본동', '돈암1동', '돈암2동', '안암동', '보문동',\n",
       "       '정릉1동', '정릉2동', '정릉3동', '정릉4동', '길음1동', '길음2동', '월곡1동', '월곡2동',\n",
       "       '장위1동', '장위2동', '장위3동', '성북동', '삼선동', '동선동', '종암동', '석관동', '번1동',\n",
       "       '번2동', '번3동', '수유1동', '수유2동', '수유3동', '삼양동', '미아동', '송중동', '송천동',\n",
       "       '삼각산동', '우이동', '인수동', '쌍문1동', '쌍문2동', '쌍문3동', '쌍문4동', '방학1동',\n",
       "       '방학2동', '방학3동', '창1동', '창2동', '창3동', '창4동', '창5동', '도봉1동', '도봉2동',\n",
       "       '월계1동', '월계2동', '월계3동', '공릉2동', '하계1동', '하계2동', '중계본동', '중계1동',\n",
       "       '중계4동', '상계1동', '상계2동', '상계5동', '상계8동', '상계9동', '상계10동', '상계3·4동',\n",
       "       '상계6·7동', '중계2·3동', '공릉1동', '녹번동', '불광1동', '갈현1동', '갈현2동', '구산동',\n",
       "       '대조동', '응암1동', '응암2동', '신사1동', '신사2동', '증산동', '수색동', '진관동', '불광2동',\n",
       "       '응암3동', '역촌동', '천연동', '홍제1동', '홍제3동', '홍제2동', '홍은1동', '홍은2동',\n",
       "       '남가좌1동', '남가좌2동', '북가좌1동', '북가좌2동', '충현동', '북아현동', '신촌동', '연희동',\n",
       "       '용강동', '대흥동', '염리동', '신수동', '서교동', '합정동', '망원1동', '망원2동', '연남동',\n",
       "       '성산1동', '성산2동', '상암동', '도화동', '서강동', '공덕동', '아현동', '목1동', '목2동',\n",
       "       '목3동', '목4동', '신월1동', '신월2동', '신월3동', '신월4동', '신월5동', '신월6동',\n",
       "       '신월7동', '신정1동', '신정2동', '신정3동', '신정6동', '신정7동', '목5동', '신정4동',\n",
       "       '염창동', '등촌1동', '등촌2동', '등촌3동', '화곡본동', '화곡2동', '화곡3동', '화곡4동',\n",
       "       '화곡6동', '화곡8동', '가양1동', '가양2동', '가양3동', '발산1동', '공항동', '방화1동',\n",
       "       '방화2동', '방화3동', '화곡1동', '우장산동', '신도림동', '구로1동', '구로3동', '구로4동',\n",
       "       '구로5동', '고척1동', '고척2동', '개봉2동', '개봉3동', '오류1동', '항동', '수궁동',\n",
       "       '가리봉동', '구로2동', '개봉1동', '가산동', '독산1동', '독산2동', '독산3동', '독산4동',\n",
       "       '시흥1동', '시흥2동', '시흥3동', '시흥4동', '시흥5동', '여의동', '당산1동', '당산2동',\n",
       "       '양평1동', '양평2동', '신길1동', '신길3동', '신길4동', '신길5동', '신길6동', '신길7동',\n",
       "       '대림1동', '대림2동', '대림3동', '영등포본동', '영등포동', '도림동', '문래동', '노량진2동',\n",
       "       '상도1동', '상도2동', '상도3동', '상도4동', '사당1동', '사당3동', '사당4동', '사당5동',\n",
       "       '대방동', '신대방1동', '신대방2동', '흑석동', '노량진1동', '사당2동', '보라매동', '청림동',\n",
       "       '행운동', '낙성대동', '중앙동', '인헌동', '남현동', '서원동', '신원동', '서림동', '신사동',\n",
       "       '신림동', '난향동', '조원동', '대학동', '은천동', '성현동', '청룡동', '난곡동', '삼성동',\n",
       "       '미성동', '서초1동', '서초2동', '서초3동', '서초4동', '잠원동', '반포본동', '반포1동',\n",
       "       '반포2동', '반포3동', '반포4동', '방배본동', '방배1동', '방배2동', '방배3동', '방배4동',\n",
       "       '양재1동', '양재2동', '내곡동', '논현1동', '논현2동', '삼성1동', '삼성2동', '대치1동',\n",
       "       '대치4동', '역삼1동', '역삼2동', '도곡1동', '도곡2동', '개포1동', '개포4동', '일원본동',\n",
       "       '일원1동', '일원2동', '수서동', '세곡동', '압구정동', '청담동', '대치2동', '개포2동',\n",
       "       '풍납1동', '풍납2동', '거여1동', '거여2동', '마천1동', '마천2동', '방이1동', '방이2동',\n",
       "       '오륜동', '오금동', '송파1동', '송파2동', '석촌동', '삼전동', '가락본동', '가락1동', '가락2동',\n",
       "       '문정1동', '문정2동', '잠실본동', '잠실4동', '잠실6동', '잠실7동', '잠실2동', '잠실3동',\n",
       "       '장지동', '위례동', '강일동', '상일동', '명일1동', '명일2동', '고덕1동', '고덕2동', '암사2동',\n",
       "       '암사3동', '천호1동', '천호3동', '성내1동', '성내2동', '성내3동', '둔촌1동', '둔촌2동',\n",
       "       '암사1동', '천호2동', '길동', '오류2동'], dtype=object)"
      ]
     },
     "execution_count": 4,
     "metadata": {},
     "output_type": "execute_result"
    }
   ],
   "source": [
    "전체행정동list = gdf['dong'].unique()\n",
    "전체행정동list"
   ]
  },
  {
   "cell_type": "markdown",
   "id": "820ef028",
   "metadata": {},
   "source": [
    "# 통계데이터들 전처리"
   ]
  },
  {
   "cell_type": "markdown",
   "id": "99b15437",
   "metadata": {},
   "source": [
    "## 동별 분기별 외국인 수 데이터 전처리"
   ]
  },
  {
   "cell_type": "code",
   "execution_count": 5,
   "id": "3f1a9126",
   "metadata": {},
   "outputs": [
    {
     "name": "stdout",
     "output_type": "stream",
     "text": [
      "set()\n"
     ]
    }
   ],
   "source": [
    "외국인데이터 = pd.read_csv('../통계데이터/서울 외국인 데이터(20년도1분기~20년도4분기).csv')\n",
    "외국인데이터 = 외국인데이터[(외국인데이터['동'] != '합계') & (외국인데이터['동'] != '소계')].reset_index(drop=True)\n",
    "print(set(외국인데이터['동'].unique()) - set(전체행정동list))\n",
    "외국인데이터['년도'] = 외국인데이터['시점'].str.split('·').str[0].astype('int')\n",
    "외국인데이터['분기'] = 외국인데이터['시점'].apply(lambda x: int(x[6:7]))\n",
    "외국인데이터 = 외국인데이터.drop(['구분','연령','시점'],axis=1)\n",
    "외국인데이터.columns = ['자치구','행정동','총 외국인 수','년도','분기']\n",
    "외국인데이터.to_csv('../통계데이터_전처리후/서울 외국인 데이터(20년도1분기~20년도4분기).csv',encoding='utf-8-sig')"
   ]
  },
  {
   "cell_type": "markdown",
   "id": "70705fbe",
   "metadata": {},
   "source": [
    "## 서울 대학교 데이터"
   ]
  },
  {
   "cell_type": "code",
   "execution_count": 6,
   "id": "df96e86a",
   "metadata": {},
   "outputs": [
    {
     "name": "stdout",
     "output_type": "stream",
     "text": [
      "set()\n"
     ]
    }
   ],
   "source": [
    "서울대학교데이터 = pd.read_csv('../point_Polygon_전처리후_데이터/서울시 대학 및 전문대학 DB 정보 (한국어).csv')\n",
    "print(set(서울대학교데이터['행정동'].unique()) - set(전체행정동list))\n",
    "서울대학교데이터.rename(columns = {'행정구' : '자치구'}, inplace = True)\n",
    "동별대학교갯수 = 서울대학교데이터.pivot_table(values='키값',aggfunc='count',index=['자치구','행정동'])\n",
    "동별대학교갯수.to_csv('../통계데이터_전처리후/서울시 대학 및 전문대학 DB 정보 (한국어).csv',encoding='utf-8-sig')"
   ]
  },
  {
   "cell_type": "markdown",
   "id": "e0d1cf2d",
   "metadata": {},
   "source": [
    "## 금융기관 수"
   ]
  },
  {
   "cell_type": "code",
   "execution_count": 7,
   "id": "89748bdc",
   "metadata": {},
   "outputs": [
    {
     "name": "stdout",
     "output_type": "stream",
     "text": [
      "set()\n"
     ]
    }
   ],
   "source": [
    "금융기관수 = pd.read_excel('../통계데이터/서울시 동별 금융기관 수.xls')\n",
    "금융기관수 = 금융기관수[['기간','자치구','동','금융기관']]\n",
    "금융기관수 = 금융기관수[(금융기관수['동']!='동') & (금융기관수['동']!='합계') & (금융기관수['동']!='소계')].reset_index(drop=True)\n",
    "print(set(금융기관수['동'].unique()) - set(전체행정동list))\n",
    "금융기관수.columns = [['년도','자치구','행정동','금융기관 수']]\n",
    "금융기관수.to_csv('../통계데이터_전처리후/서울시 동별 금융기관 수.csv',encoding='utf-8-sig')"
   ]
  },
  {
   "cell_type": "markdown",
   "id": "5bff3d6b",
   "metadata": {},
   "source": [
    "## 동별 기초생활 수급자"
   ]
  },
  {
   "cell_type": "code",
   "execution_count": 8,
   "id": "eab1cd62",
   "metadata": {},
   "outputs": [
    {
     "name": "stdout",
     "output_type": "stream",
     "text": [
      "set()\n"
     ]
    }
   ],
   "source": [
    "기초생활수급자 = pd.read_csv('../통계데이터/서울시 동별 기초생활 수급자.csv')\n",
    "기초생활수급자 = 기초생활수급자[(기초생활수급자['동']!='동') & (기초생활수급자['동']!='본청') & \n",
    "                 (기초생활수급자['동']!='합계') & (기초생활수급자['동']!='소계') & (기초생활수급자['동']!='기타')].reset_index(drop=True)\n",
    "print(set(기초생활수급자['동'].unique()) - set(전체행정동list))\n",
    "기초생활수급자 = 기초생활수급자[['기간','자치구','동','총 수급자']]\n",
    "기초생활수급자.columns = [['년도','자치구','행정동','총 수급자 수']]\n",
    "기초생활수급자.to_csv('../통계데이터_전처리후/서울시 동별 기초생활 수급자.csv',encoding='utf-8-sig')"
   ]
  },
  {
   "cell_type": "markdown",
   "id": "b911fe42",
   "metadata": {},
   "source": [
    "## 동별 노령화"
   ]
  },
  {
   "cell_type": "code",
   "execution_count": 9,
   "id": "e8767dec",
   "metadata": {},
   "outputs": [
    {
     "name": "stdout",
     "output_type": "stream",
     "text": [
      "set()\n"
     ]
    }
   ],
   "source": [
    "동별노령화 = pd.read_csv('../통계데이터/서울시 동별 노령화 데이터.csv')\n",
    "동별노령화 = 동별노령화[(동별노령화['동'] != '소계') & (동별노령화['동'] != '합계')].reset_index(drop=True)\n",
    "print(set(동별노령화['동'].unique()) - set(전체행정동list))\n",
    "동별노령화.rename(columns = {'기간' : '년도', '동':'행정동'}, inplace = True)\n",
    "동별노령화.to_csv('../통계데이터_전처리후/서울시 동별 노령화 데이터.csv',encoding='utf-8-sig')"
   ]
  },
  {
   "cell_type": "markdown",
   "id": "a72e859d",
   "metadata": {},
   "source": [
    "## 서울시 인구 밀도 데이터"
   ]
  },
  {
   "cell_type": "code",
   "execution_count": 10,
   "id": "173fd5b0",
   "metadata": {},
   "outputs": [
    {
     "name": "stdout",
     "output_type": "stream",
     "text": [
      "set()\n"
     ]
    }
   ],
   "source": [
    "인구밀도 = pd.read_excel('../통계데이터/서울시 인구밀도(동별)통계.xls')\n",
    "인구밀도 = 인구밀도[(인구밀도['동'] != '소계') & (인구밀도['동'] != '합계')].reset_index(drop=True)\n",
    "print(set(인구밀도['동'].unique()) - set(전체행정동list))\n",
    "인구밀도.columns = [['년도','자치구','행정동','인구 수','면적','인구밀도']]\n",
    "인구밀도.to_csv('../통계데이터_전처리후/서울시 인구밀도(동별)통계.csv',encoding='utf-8-sig')"
   ]
  },
  {
   "cell_type": "markdown",
   "id": "b77a8bae",
   "metadata": {},
   "source": [
    "## 서울시 동별 평균 연령"
   ]
  },
  {
   "cell_type": "code",
   "execution_count": 11,
   "id": "b16c725f",
   "metadata": {},
   "outputs": [
    {
     "name": "stdout",
     "output_type": "stream",
     "text": [
      "set()\n"
     ]
    }
   ],
   "source": [
    "동별평균연령 = pd.read_excel('../통계데이터/서울 동별 평균연령.xls')\n",
    "동별평균연령 = 동별평균연령[(동별평균연령['동'] != '소계') & (동별평균연령['동'] != '합계')].reset_index(drop=True)\n",
    "print(set(동별평균연령['동'].unique()) - set(전체행정동list))\n",
    "동별평균연령['년도'] = 동별평균연령['기간'].apply(lambda x: int(x[:4]))\n",
    "동별평균연령['분기'] = 동별평균연령['기간'].apply(lambda x: int(x[5:6]))\n",
    "동별평균연령.columns = [['기간','자치구','행정동','전체평균연령','남자_전체평균연령','여자_전체평균연령','년도','분기']]\n",
    "동별평균연령.to_csv('../통계데이터_전처리후/서울 동별 평균연령.csv',encoding='utf-8-sig')"
   ]
  },
  {
   "cell_type": "markdown",
   "id": "c2829cd7",
   "metadata": {},
   "source": [
    "## 동별 주차장"
   ]
  },
  {
   "cell_type": "code",
   "execution_count": 12,
   "id": "ceb65332",
   "metadata": {},
   "outputs": [],
   "source": [
    "동별주차장 =  pd.read_excel('../통계데이터/동별주차장.xls')\n",
    "동별주차장 = 동별주차장[(동별주차장['동'] != '소계') & \n",
    "                (동별주차장['동'] != '합계') & (동별주차장['동'] != '동')].reset_index(drop=True)\n",
    "# print(set(동별주차장['동'].unique()) - set(전체행정동list))\n",
    "동별주차장 = 동별주차장[['기간','자치구','동','합계','합계.1']]\n",
    "동별주차장.columns = [['년도','자치구','행정동','주차장_개소','주차장_면수']]\n",
    "동별주차장.to_csv('../통계데이터_전처리후/동별주차장.csv',encoding='utf-8-sig')"
   ]
  },
  {
   "cell_type": "markdown",
   "id": "4a70b9d4",
   "metadata": {},
   "source": [
    "## 동별 주택 종류별 통계"
   ]
  },
  {
   "cell_type": "code",
   "execution_count": 13,
   "id": "c950ca73",
   "metadata": {},
   "outputs": [],
   "source": [
    "주택종류별통계 = pd.read_excel('../통계데이터/주택종류별(동별)통계.xls')\n",
    "주택종류별통계 = 주택종류별통계[['기간','자치구','동','종류별 주택수']]\n",
    "주택종류별통계 = 주택종류별통계[(주택종류별통계['동'] != '소계') & \n",
    "                (주택종류별통계['동'] != '합계') & (주택종류별통계['동'] != '동')].reset_index(drop=True)\n",
    "주택종류별통계.columns = [['년도','자치구','행정동','전체종류주택합계']]\n",
    "주택종류별통계.to_csv('../통계데이터_전처리후/주택종류별(동별)통계.csv',encoding='utf-8-sig')"
   ]
  },
  {
   "cell_type": "markdown",
   "id": "7a6f23a8",
   "metadata": {},
   "source": [
    "## 세대원수별 세대수 통계 데이터"
   ]
  },
  {
   "cell_type": "code",
   "execution_count": 14,
   "id": "025849ca",
   "metadata": {},
   "outputs": [
    {
     "name": "stdout",
     "output_type": "stream",
     "text": [
      "set()\n"
     ]
    }
   ],
   "source": [
    "세대수 = pd.read_excel('../통계데이터/서울 세대원수별 세대수.xls')\n",
    "세대수 = 세대수[(세대수['동']!='계') & (세대수['동']!='합계')].reset_index(drop=True)\n",
    "print(set(세대수['동'].unique()) - set(전체행정동list))\n",
    "세대수['년도'] = 세대수['기간'].apply(lambda x: int(x[:4]))\n",
    "세대수['분기'] = 세대수['기간'].apply(lambda x: int(x[5:6]))\n",
    "세대수.rename(columns = { '동':'행정동'}, inplace = True)\n",
    "세대수 = 세대수[['년도','분기','자치구','행정동','전체세대수','1인세대','2인세대','3인세대','4인세대','5인세대','6인세대']]\n",
    "세대수.to_csv('../통계데이터_전처리후/서울 세대원수별 세대수.csv',encoding='utf-8-sig')"
   ]
  },
  {
   "cell_type": "markdown",
   "id": "cc0374c0",
   "metadata": {},
   "source": [
    "## 동별평균연령"
   ]
  },
  {
   "cell_type": "code",
   "execution_count": 15,
   "id": "df01a824",
   "metadata": {},
   "outputs": [
    {
     "name": "stdout",
     "output_type": "stream",
     "text": [
      "set()\n"
     ]
    }
   ],
   "source": [
    "평균연령 = pd.read_excel('../통계데이터/동별평균연령.xls')\n",
    "평균연령 = 평균연령[(평균연령['동']!='소계') & (평균연령['동']!='합계')].reset_index(drop=True)\n",
    "print(set(평균연령['동'].unique()) - set(전체행정동list))\n",
    "평균연령['년도'] = 평균연령['기간'].apply(lambda x: int(x[:4]))\n",
    "평균연령['분기'] = 평균연령['기간'].apply(lambda x: int(x[5:6]))\n",
    "평균연령.rename(columns = { '동':'행정동','남자':'남자_평균연령','여자':'여자_평균연령'}, inplace = True)\n",
    "평균연령 = 평균연령.drop('기간',axis=1)\n",
    "평균연령.to_csv('../통계데이터_전처리후/동별평균연령.csv',encoding='utf-8-sig')"
   ]
  },
  {
   "cell_type": "markdown",
   "id": "68c577dd",
   "metadata": {},
   "source": [
    "## 세대원수별 세대수 통계 데이터"
   ]
  },
  {
   "cell_type": "code",
   "execution_count": 16,
   "id": "950a0448",
   "metadata": {},
   "outputs": [
    {
     "name": "stdout",
     "output_type": "stream",
     "text": [
      "set()\n"
     ]
    }
   ],
   "source": [
    "세대수 = pd.read_excel('../통계데이터/서울 세대원수별 세대수.xls')\n",
    "세대수 = 세대수[(세대수['동']!='계') & (세대수['동']!='합계')].reset_index(drop=True)\n",
    "print(set(세대수['동'].unique()) - set(전체행정동list))\n",
    "세대수['년도'] = 세대수['기간'].apply(lambda x: int(x[:4]))\n",
    "세대수['분기'] = 세대수['기간'].apply(lambda x: int(x[5:6]))\n",
    "세대수.rename(columns = { '동':'행정동'}, inplace = True)\n",
    "세대수 = 세대수[['년도','분기','자치구','행정동','전체세대수','1인세대','2인세대','3인세대','4인세대','5인세대','6인세대']]\n",
    "세대수.to_csv('../통계데이터_전처리후/서울 세대원수별 세대수.csv',encoding='utf-8-sig')"
   ]
  },
  {
   "cell_type": "markdown",
   "id": "5ede4567",
   "metadata": {},
   "source": [
    "## 구별 학급당 학생 수 "
   ]
  },
  {
   "cell_type": "code",
   "execution_count": 17,
   "id": "72e375d7",
   "metadata": {},
   "outputs": [],
   "source": [
    "구별학급당학생수 = pd.read_excel('../data/구별 학급당 학생 수.xls')\n",
    "구별학급당학생수 = 구별학급당학생수.drop(['유치원.2','초등학교.2','중학교.2','고등학교.2'],axis=1)\n",
    "구별학급당학생수.columns = ['년도','행정구','유치원생_수','유치원학급수','초등학생수','초등학교학급수','중학생수','중학교학급수','고등학생수','고등학교학급수']\n",
    "구별학급당학생수 = 구별학급당학생수.drop([0,1]).reset_index(drop=True)\n",
    "구별학급당학생수.to_csv('../통계데이터_전처리후/구별학급당학생수.csv',encoding='utf-8-sig')"
   ]
  },
  {
   "cell_type": "markdown",
   "id": "4ff0107c",
   "metadata": {},
   "source": [
    "## 구별 의료기관"
   ]
  },
  {
   "cell_type": "code",
   "execution_count": 18,
   "id": "25db80e1",
   "metadata": {},
   "outputs": [],
   "source": [
    "구별의료기관 = pd.read_excel('../data/구별_의료기관.xls')\n",
    "구별의료기관 = 구별의료기관[['기간','자치구','계','계.1','종합병원','종합병원.1','병원','병원.1','의원','의원.1']]\n",
    "구별의료기관.columns = ['년도','행정구','총병원수','총병상수','총종합병원수','총종합병원병상수','총일반병원수','총일반병원병상수','총의원수','총의원병상수']\n",
    "구별의료기관 = 구별의료기관.drop(0).reset_index(drop=True)\n",
    "구별의료기관.to_csv('../통계데이터_전처리후/구별의료기관.csv',encoding='utf-8-sig')"
   ]
  },
  {
   "cell_type": "markdown",
   "id": "3794dc69",
   "metadata": {},
   "source": [
    "# PPI 전처리를 거친 데이터들 통계시키기"
   ]
  },
  {
   "cell_type": "markdown",
   "id": "b1fe4d21",
   "metadata": {},
   "source": [
    "## 동별지하철역 수"
   ]
  },
  {
   "cell_type": "code",
   "execution_count": 19,
   "id": "1481f6fe",
   "metadata": {},
   "outputs": [],
   "source": [
    "서울시지하철역 = pd.read_csv('../point_Polygon_전처리후_데이터/서울시지하철역.csv').drop('Unnamed: 0',axis=1)\n"
   ]
  },
  {
   "cell_type": "code",
   "execution_count": 20,
   "id": "18eeef91",
   "metadata": {
    "scrolled": false
   },
   "outputs": [],
   "source": [
    "동별지하철역갯수 = 서울시지하철역.pivot_table(values='X좌표',aggfunc='count',index='행정동')\n",
    "동별지하철역갯수.columns = ['동별 지하철역 수']\n",
    "동별지하철역갯수.to_csv('../통계데이터_전처리후/동별지하철역수.csv',encoding='utf-8-sig')"
   ]
  },
  {
   "cell_type": "code",
   "execution_count": null,
   "id": "7315d835",
   "metadata": {},
   "outputs": [],
   "source": []
  },
  {
   "cell_type": "code",
   "execution_count": null,
   "id": "7df25f8a",
   "metadata": {},
   "outputs": [],
   "source": []
  },
  {
   "cell_type": "code",
   "execution_count": null,
   "id": "65f4e38f",
   "metadata": {},
   "outputs": [],
   "source": []
  },
  {
   "cell_type": "code",
   "execution_count": null,
   "id": "c563f7f8",
   "metadata": {},
   "outputs": [],
   "source": []
  },
  {
   "cell_type": "code",
   "execution_count": null,
   "id": "79229119",
   "metadata": {},
   "outputs": [],
   "source": []
  },
  {
   "cell_type": "code",
   "execution_count": null,
   "id": "8c72c005",
   "metadata": {},
   "outputs": [],
   "source": []
  }
 ],
 "metadata": {
  "kernelspec": {
   "display_name": "Python 3",
   "language": "python",
   "name": "python3"
  },
  "language_info": {
   "codemirror_mode": {
    "name": "ipython",
    "version": 3
   },
   "file_extension": ".py",
   "mimetype": "text/x-python",
   "name": "python",
   "nbconvert_exporter": "python",
   "pygments_lexer": "ipython3",
   "version": "3.8.8"
  },
  "toc": {
   "base_numbering": 1,
   "nav_menu": {},
   "number_sections": true,
   "sideBar": true,
   "skip_h1_title": false,
   "title_cell": "Table of Contents",
   "title_sidebar": "Contents",
   "toc_cell": false,
   "toc_position": {},
   "toc_section_display": true,
   "toc_window_display": false
  }
 },
 "nbformat": 4,
 "nbformat_minor": 5
}
